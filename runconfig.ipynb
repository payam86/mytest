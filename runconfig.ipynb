{
 "cells": [
  {
   "cell_type": "code",
   "execution_count": 18,
   "id": "f2889a75",
   "metadata": {},
   "outputs": [
    {
     "name": "stdout",
     "output_type": "stream",
     "text": [
      "Logged into 192.168.1.101 successfully\n",
      "Pushed config into 192.168.1.101 successfully\n",
      "Logged into 192.168.1.102 successfully\n",
      "Pushed config into 192.168.1.102 successfully\n",
      "Logged into 192.168.1.103 successfully\n",
      "Pushed config into 192.168.1.103 successfully\n",
      "Logged into 192.168.1.104 successfully\n",
      "Pushed config into 192.168.1.104 successfully\n",
      "Done!\n"
     ]
    }
   ],
   "source": [
    "import yaml\n",
    "from netmiko import Netmiko\n",
    "from jinja2 import Environment, FileSystemLoader\n",
    "\n",
    "hosts = yaml.load(open('hosts.yml'), Loader=yaml.SafeLoader)\n",
    "# interfaces = yaml.load(open('Template.yml'), Loader=yaml.SafeLoader)\n",
    "env = Environment(loader = FileSystemLoader('.'), trim_blocks=True,\n",
    "autoescape=True)\n",
    "template = env.get_template('Template.j2')\n",
    "for host in hosts[\"hosts\"]:\n",
    "    config = template.render(hosts=host)\n",
    "    net_connect = Netmiko(host = host[\"ip\"],\n",
    "        username = host[\"username\"],\n",
    "        password = host[\"password\"],\n",
    "        port = host[\"port\"],\n",
    "        device_type = host[\"type\"])\n",
    "    print(f\"Logged into {host['ip']} successfully\")\n",
    "    output = net_connect.send_config_set(config.split(\"\\n\"))\n",
    "    print(f\"Pushed config into {host['ip']} successfully\")\n",
    "    net_connect.disconnect()\n",
    "print(\"Done!\")"
   ]
  },
  {
   "cell_type": "code",
   "execution_count": null,
   "id": "c09759ad",
   "metadata": {},
   "outputs": [],
   "source": []
  }
 ],
 "metadata": {
  "kernelspec": {
   "display_name": "Python 3 (ipykernel)",
   "language": "python",
   "name": "python3"
  },
  "language_info": {
   "codemirror_mode": {
    "name": "ipython",
    "version": 3
   },
   "file_extension": ".py",
   "mimetype": "text/x-python",
   "name": "python",
   "nbconvert_exporter": "python",
   "pygments_lexer": "ipython3",
   "version": "3.8.10"
  },
  "vscode": {
   "interpreter": {
    "hash": "916dbcbb3f70747c44a77c7bcd40155683ae19c65e1c03b4aa3499c5328201f1"
   }
  }
 },
 "nbformat": 4,
 "nbformat_minor": 5
}
